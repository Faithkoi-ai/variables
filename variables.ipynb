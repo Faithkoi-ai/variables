{
  "nbformat": 4,
  "nbformat_minor": 0,
  "metadata": {
    "colab": {
      "provenance": [],
      "include_colab_link": true
    },
    "kernelspec": {
      "name": "python3",
      "display_name": "Python 3"
    },
    "language_info": {
      "name": "python"
    }
  },
  "cells": [
    {
      "cell_type": "markdown",
      "metadata": {
        "id": "view-in-github",
        "colab_type": "text"
      },
      "source": [
        "<a href=\"https://colab.research.google.com/github/Faithkoi-ai/variables/blob/main/variables.ipynb\" target=\"_parent\"><img src=\"https://colab.research.google.com/assets/colab-badge.svg\" alt=\"Open In Colab\"/></a>"
      ]
    },
    {
      "cell_type": "markdown",
      "source": [
        "# Introduction"
      ],
      "metadata": {
        "id": "kHm5i45TjFMr"
      }
    },
    {
      "cell_type": "markdown",
      "source": [
        "# Introduction"
      ],
      "metadata": {
        "id": "akr5uf3ydAtz"
      }
    },
    {
      "cell_type": "code",
      "execution_count": null,
      "metadata": {
        "colab": {
          "base_uri": "https://localhost:8080/"
        },
        "id": "AFMyQctn-LQg",
        "outputId": "fe15476c-222a-45e1-bb9e-45f99bd72030"
      },
      "outputs": [
        {
          "output_type": "execute_result",
          "data": {
            "text/plain": [
              "30"
            ]
          },
          "metadata": {},
          "execution_count": 1
        }
      ],
      "source": [
        "#Python as a calculator\n",
        "10+20"
      ]
    },
    {
      "cell_type": "code",
      "source": [
        "#print function\n",
        "message=\"firstname:Eddah\\n Lastname:Chepchirchir\"\n",
        "print(message)"
      ],
      "metadata": {
        "colab": {
          "base_uri": "https://localhost:8080/"
        },
        "id": "kSxyJusa-QRu",
        "outputId": "1b50a1f6-ce81-494f-9542-6d94b13a8da2"
      },
      "execution_count": null,
      "outputs": [
        {
          "output_type": "stream",
          "name": "stdout",
          "text": [
            "firstname:Eddah\n",
            " Lastname:Chepchirchir\n"
          ]
        }
      ]
    },
    {
      "cell_type": "code",
      "source": [
        "print(\"First Name  \\n Last Name\")"
      ],
      "metadata": {
        "colab": {
          "base_uri": "https://localhost:8080/"
        },
        "id": "esMpN6PigHzz",
        "outputId": "1c3d1805-01ee-4678-e7a5-f13d4b297cb5"
      },
      "execution_count": null,
      "outputs": [
        {
          "output_type": "stream",
          "name": "stdout",
          "text": [
            "First Name  \n",
            " Last Name\n"
          ]
        }
      ]
    },
    {
      "cell_type": "markdown",
      "source": [
        "# Variables and Data Types"
      ],
      "metadata": {
        "id": "gOVdVBCujmbs"
      }
    },
    {
      "cell_type": "code",
      "source": [
        "\n",
        "age=18\n",
        "name='Daisy'\n",
        "print(age)\n",
        "print(name)"
      ],
      "metadata": {
        "colab": {
          "base_uri": "https://localhost:8080/"
        },
        "id": "W8pKJmtr-xV5",
        "outputId": "8d23bd39-2ae2-4bd6-e7d5-8c289bf3a4ec"
      },
      "execution_count": null,
      "outputs": [
        {
          "output_type": "stream",
          "name": "stdout",
          "text": [
            "18\n",
            "Daisy\n"
          ]
        }
      ]
    },
    {
      "cell_type": "markdown",
      "source": [
        "# Arithmetic Operators"
      ],
      "metadata": {
        "id": "bc4FOY8_AS3e"
      }
    },
    {
      "cell_type": "code",
      "source": [
        "#arithmetic Operators\n",
        "a=50 #assignment operator\n",
        "b=30\n",
        "print(\"addition:\",a+b)\n",
        "print(\"subtraction:\",a-b)\n",
        "print(\"multiplication:\",a*b)\n",
        "print(\"division:\",a/b)\n",
        "print(\"modulus\",a%b)\n",
        "#print(a**b) #exponent\n",
        "print(\"Integer Division\",a//b)\n",
        "print(\"exponent\",2**3)\n",
        "print(2//3) #floor division"
      ],
      "metadata": {
        "colab": {
          "base_uri": "https://localhost:8080/"
        },
        "id": "9cwWIyUG_cQb",
        "outputId": "7ec536f8-7296-48e9-daf2-cdb98b29dd67"
      },
      "execution_count": null,
      "outputs": [
        {
          "output_type": "stream",
          "name": "stdout",
          "text": [
            "addition: 80\n",
            "subtraction: 20\n",
            "multiplication: 1500\n",
            "division: 1.6666666666666667\n",
            "modulus 20\n",
            "Integer Division 1\n",
            "exponent 8\n",
            "0\n"
          ]
        }
      ]
    },
    {
      "cell_type": "markdown",
      "source": [
        "# COmparison Operators"
      ],
      "metadata": {
        "id": "fkYREmcQA-6V"
      }
    },
    {
      "cell_type": "code",
      "source": [
        "a=30\n",
        "b=50\n",
        "print(a==b)\n",
        "print(a!=b)\n",
        "print(a>b)\n",
        "print(a<b)\n",
        "print(a>=b)\n",
        "print(a<=b)"
      ],
      "metadata": {
        "colab": {
          "base_uri": "https://localhost:8080/"
        },
        "id": "g_kUe9uPBL_9",
        "outputId": "e616380f-eedb-48a2-a561-e42aa2bd6154"
      },
      "execution_count": null,
      "outputs": [
        {
          "output_type": "stream",
          "name": "stdout",
          "text": [
            "False\n",
            "True\n",
            "False\n",
            "True\n",
            "False\n",
            "True\n"
          ]
        }
      ]
    },
    {
      "cell_type": "markdown",
      "source": [
        "# Logical Operators"
      ],
      "metadata": {
        "id": "B6mKseDFBbly"
      }
    },
    {
      "cell_type": "code",
      "source": [
        "a=30\n",
        "b=50\n",
        "c=30\n",
        "print(a<b and a<c)\n",
        "print(a<b or a<c)\n",
        "print(not(a==c))\n"
      ],
      "metadata": {
        "colab": {
          "base_uri": "https://localhost:8080/"
        },
        "id": "EXG9_M1ZBjWG",
        "outputId": "03fac3dc-097c-4ea6-dbcc-223fc9557204"
      },
      "execution_count": null,
      "outputs": [
        {
          "output_type": "stream",
          "name": "stdout",
          "text": [
            "False\n",
            "True\n",
            "False\n"
          ]
        }
      ]
    },
    {
      "cell_type": "markdown",
      "source": [
        "# DataTypes\n",
        "* integers\n",
        "* strings\n",
        "* boolean\n",
        "* Lists\n",
        "* Dictionaries"
      ],
      "metadata": {
        "id": "GQDJqid8FZHZ"
      }
    },
    {
      "cell_type": "code",
      "source": [
        "number=10\n",
        "print(number)\n",
        "type(number)"
      ],
      "metadata": {
        "colab": {
          "base_uri": "https://localhost:8080/"
        },
        "id": "7kcQXw_0HDnG",
        "outputId": "d481da2e-185b-4f8c-c283-6e6b051c3d86"
      },
      "execution_count": null,
      "outputs": [
        {
          "output_type": "stream",
          "name": "stdout",
          "text": [
            "10\n"
          ]
        },
        {
          "output_type": "execute_result",
          "data": {
            "text/plain": [
              "int"
            ]
          },
          "metadata": {},
          "execution_count": 25
        }
      ]
    },
    {
      "cell_type": "code",
      "source": [
        "temperature=36.5\n",
        "print(temperature)\n",
        "type(temperature)"
      ],
      "metadata": {
        "colab": {
          "base_uri": "https://localhost:8080/"
        },
        "id": "_qCwNZPsln9L",
        "outputId": "6bebe7bf-3cb9-4739-e1d0-29ab85e605c1"
      },
      "execution_count": null,
      "outputs": [
        {
          "output_type": "stream",
          "name": "stdout",
          "text": [
            "36.5\n"
          ]
        },
        {
          "output_type": "execute_result",
          "data": {
            "text/plain": [
              "float"
            ]
          },
          "metadata": {},
          "execution_count": 80
        }
      ]
    },
    {
      "cell_type": "code",
      "source": [
        "name='Engage'\n",
        "print(name)\n",
        "type(name)"
      ],
      "metadata": {
        "colab": {
          "base_uri": "https://localhost:8080/"
        },
        "id": "ttcPr7HMH_PZ",
        "outputId": "39b484cb-4721-44f5-d452-f3f7173307e7"
      },
      "execution_count": null,
      "outputs": [
        {
          "output_type": "stream",
          "name": "stdout",
          "text": [
            "Engage\n"
          ]
        },
        {
          "output_type": "execute_result",
          "data": {
            "text/plain": [
              "str"
            ]
          },
          "metadata": {},
          "execution_count": 26
        }
      ]
    },
    {
      "cell_type": "code",
      "source": [
        "is_rainning=True\n",
        "is_not_raining=False\n",
        "print(is_rainning)\n",
        "print(is_not_raining)\n",
        "type(is_rainning)"
      ],
      "metadata": {
        "colab": {
          "base_uri": "https://localhost:8080/"
        },
        "id": "POJtXz3CIGls",
        "outputId": "d84fe90b-7d78-40ac-ecbb-3f5801b5723b"
      },
      "execution_count": null,
      "outputs": [
        {
          "output_type": "stream",
          "name": "stdout",
          "text": [
            "True\n",
            "False\n"
          ]
        },
        {
          "output_type": "execute_result",
          "data": {
            "text/plain": [
              "bool"
            ]
          },
          "metadata": {},
          "execution_count": 27
        }
      ]
    },
    {
      "cell_type": "code",
      "source": [
        "fruits=['apple','mango','banana']\n",
        "print(fruits)\n",
        "print(type(fruits))\n",
        "print(fruits[0])\n",
        "print(fruits[1])\n",
        "print(fruits[2])\n",
        "#using append\n",
        "fruits.append('orange')\n",
        "print(fruits)\n",
        "#using insert\n",
        "fruits.insert(1,'pineapple')\n",
        "print(fruits)\n",
        "#using reomve\n",
        "fruits.remove('apple')\n",
        "print(fruits)\n",
        "#using pop\n",
        "popped_fruit=fruits.pop()\n",
        "print(fruits)\n",
        "print(popped_fruit)\n",
        "print(fruits.pop(0))\n",
        "#using sort\n",
        "sorted_fruits=fruits.sort()\n",
        "print(sorted_fruits)\n",
        "#using count\n",
        "print(fruits.count(' grapes'))\n",
        "fruits.append('grapes')\n",
        "print(fruits.count('grapes'))\n",
        "fruits1=fruits.sort()\n",
        "print(fruits1)"
      ],
      "metadata": {
        "colab": {
          "base_uri": "https://localhost:8080/"
        },
        "id": "9OOLTt-dIP7u",
        "outputId": "c31424a7-a419-4795-8855-6b88f5e1eafd"
      },
      "execution_count": null,
      "outputs": [
        {
          "output_type": "stream",
          "name": "stdout",
          "text": [
            "['apple', 'mango', 'banana']\n",
            "<class 'list'>\n",
            "apple\n",
            "mango\n",
            "banana\n",
            "['apple', 'mango', 'banana', 'orange']\n",
            "['apple', 'pineapple', 'mango', 'banana', 'orange']\n",
            "['pineapple', 'mango', 'banana', 'orange']\n",
            "['pineapple', 'mango', 'banana']\n",
            "orange\n",
            "pineapple\n",
            "None\n",
            "0\n",
            "1\n",
            "None\n"
          ]
        }
      ]
    },
    {
      "cell_type": "code",
      "source": [],
      "metadata": {
        "id": "KukpWLDQ4ShC"
      },
      "execution_count": null,
      "outputs": []
    },
    {
      "cell_type": "markdown",
      "source": [
        "# Dictionaries"
      ],
      "metadata": {
        "id": "NWnBv26MLT7k"
      }
    },
    {
      "cell_type": "code",
      "source": [
        "my_dict = {'name': 'John',\n",
        "          'age': 30,\n",
        "           'city': 'Nairobi'}\n",
        "\n",
        "print(my_dict)\n",
        "print(my_dict['name'])\n",
        "print(my_dict['age'])\n",
        "print(my_dict['city'])\n",
        "print(my_dict.keys())\n",
        "print(my_dict.values())\n",
        "print(my_dict.items())\n",
        "my_dict['age']=35\n",
        "print(my_dict)\n",
        "my_dict['country']='Kenya'\n",
        "print(my_dict)\n",
        "my_dict.pop('city')\n",
        "print(my_dict)\n",
        "print(type(my_dict))"
      ],
      "metadata": {
        "colab": {
          "base_uri": "https://localhost:8080/"
        },
        "id": "Cwj8Qzq-LXgd",
        "outputId": "b10e4424-df62-4c90-c54b-76faac4c9cc1"
      },
      "execution_count": null,
      "outputs": [
        {
          "output_type": "stream",
          "name": "stdout",
          "text": [
            "{'name': 'John', 'age': 30, 'city': 'Nairobi'}\n",
            "John\n",
            "30\n",
            "Nairobi\n",
            "dict_keys(['name', 'age', 'city'])\n",
            "dict_values(['John', 30, 'Nairobi'])\n",
            "dict_items([('name', 'John'), ('age', 30), ('city', 'Nairobi')])\n",
            "{'name': 'John', 'age': 35, 'city': 'Nairobi'}\n",
            "name age city country\n",
            "{'name': 'John', 'age': 35, 'country': 'Kenya'}\n",
            "<class 'dict'>\n"
          ]
        }
      ]
    },
    {
      "cell_type": "code",
      "source": [
        "student_Marks=dict(name= 'Diana', age =30, city='Nakuru' )\n",
        "print(*student_Marks)"
      ],
      "metadata": {
        "colab": {
          "base_uri": "https://localhost:8080/"
        },
        "id": "eITg1G7KQcIF",
        "outputId": "33de9cd0-f513-4dde-d15b-aa8528d38f3c"
      },
      "execution_count": null,
      "outputs": [
        {
          "output_type": "stream",
          "name": "stdout",
          "text": [
            "name age city\n"
          ]
        }
      ]
    },
    {
      "cell_type": "markdown",
      "source": [
        "# Sets and sets operations"
      ],
      "metadata": {
        "id": "Eqa3fqtbi0Hn"
      }
    },
    {
      "cell_type": "code",
      "source": [
        "names={'4','5','6'}\n",
        "print(names)\n",
        "names.add(7)\n",
        "print(names)"
      ],
      "metadata": {
        "colab": {
          "base_uri": "https://localhost:8080/"
        },
        "id": "XgoopvJFa79p",
        "outputId": "4ea6abfe-2848-491a-be64-453b0d7471fd"
      },
      "execution_count": null,
      "outputs": [
        {
          "output_type": "stream",
          "name": "stdout",
          "text": [
            "{'6', '5', '4'}\n",
            "{'6', '5', '4', 7}\n"
          ]
        }
      ]
    },
    {
      "cell_type": "code",
      "source": [
        "names=set(['Daisy','Mary','Martha','Janet'])\n",
        "print(names)\n",
        "names.add('Veronicah')\n",
        "print(names)\n",
        "names.remove('Mary')\n",
        "print(names)\n",
        "print(names)"
      ],
      "metadata": {
        "colab": {
          "base_uri": "https://localhost:8080/"
        },
        "id": "JaKhbR3sbtrv",
        "outputId": "a14c2443-e807-4897-dafe-80c354cee164"
      },
      "execution_count": null,
      "outputs": [
        {
          "output_type": "stream",
          "name": "stdout",
          "text": [
            "{'Martha', 'Daisy', 'Janet', 'Mary'}\n",
            "{'Daisy', 'Mary', 'Veronicah', 'Janet', 'Martha'}\n",
            "{'Daisy', 'Veronicah', 'Janet', 'Martha'}\n",
            "{'Daisy', 'Veronicah', 'Janet', 'Martha'}\n"
          ]
        }
      ]
    },
    {
      "cell_type": "code",
      "source": [
        "cohort1={'Janet','Mary','Vera','Dulcie'}\n",
        "combined=cohort1.union(names)\n",
        "print(combined)"
      ],
      "metadata": {
        "colab": {
          "base_uri": "https://localhost:8080/"
        },
        "id": "neZizh5xcMsm",
        "outputId": "2585dfb8-f258-4298-ec6f-c3a26b9a82eb"
      },
      "execution_count": null,
      "outputs": [
        {
          "output_type": "stream",
          "name": "stdout",
          "text": [
            "{'Daisy', 'Dulcie', 'Veronicah', 'Vera', 'Mary', 'Martha', 'Janet'}\n"
          ]
        }
      ]
    },
    {
      "cell_type": "code",
      "source": [
        "intersec=cohort1.intersection(names)\n",
        "print(intersec)"
      ],
      "metadata": {
        "colab": {
          "base_uri": "https://localhost:8080/"
        },
        "id": "1VkZpM3sckPg",
        "outputId": "bf020739-fd0b-41f6-a74a-d83eb0b8b17b"
      },
      "execution_count": null,
      "outputs": [
        {
          "output_type": "stream",
          "name": "stdout",
          "text": [
            "{'Janet'}\n"
          ]
        }
      ]
    },
    {
      "cell_type": "code",
      "source": [
        "dif=cohort1.difference(names)\n",
        "print(dif)"
      ],
      "metadata": {
        "colab": {
          "base_uri": "https://localhost:8080/"
        },
        "id": "mMvwEooicvAH",
        "outputId": "d4ae43d4-1518-41b7-adc8-60bd8289b7e1"
      },
      "execution_count": null,
      "outputs": [
        {
          "output_type": "stream",
          "name": "stdout",
          "text": [
            "{'Dulcie', 'Vera', 'Mary'}\n"
          ]
        }
      ]
    },
    {
      "cell_type": "code",
      "source": [
        "x=30\n",
        "if(x>20):\n",
        "    print('x is greater than 20')"
      ],
      "metadata": {
        "colab": {
          "base_uri": "https://localhost:8080/"
        },
        "id": "bFjz9XCYdEtU",
        "outputId": "54572235-58cf-49b9-ea52-f1e754263513"
      },
      "execution_count": null,
      "outputs": [
        {
          "output_type": "stream",
          "name": "stdout",
          "text": [
            "x is greater than 20\n"
          ]
        }
      ]
    },
    {
      "cell_type": "code",
      "source": [
        "#use elif\n",
        "a=20\n",
        "b=12\n",
        "c=30\n",
        "if(a>b and a>c):\n",
        "    print('a is the greatest')\n",
        "elif(b>a and b>c):\n",
        "    print('b is the greatest')\n",
        "else:\n",
        "    print('c is the greatest')\n",
        "\n"
      ],
      "metadata": {
        "colab": {
          "base_uri": "https://localhost:8080/"
        },
        "id": "uTny5rCbdW6B",
        "outputId": "833b51aa-32e1-4925-a3e6-4b0f7a096d02"
      },
      "execution_count": null,
      "outputs": [
        {
          "output_type": "stream",
          "name": "stdout",
          "text": [
            "c is the greatest\n"
          ]
        }
      ]
    },
    {
      "cell_type": "code",
      "source": [
        "#if else\n",
        "x=30\n",
        "if(x>20):\n",
        "    print('x is greater than 20')\n",
        "else:\n",
        "    print('x is not greater than 20')"
      ],
      "metadata": {
        "colab": {
          "base_uri": "https://localhost:8080/"
        },
        "id": "4KeFh2HveXm7",
        "outputId": "2fad1424-65eb-449e-eda5-0c87b72c60fe"
      },
      "execution_count": null,
      "outputs": [
        {
          "output_type": "stream",
          "name": "stdout",
          "text": [
            "x is greater than 20\n"
          ]
        }
      ]
    },
    {
      "cell_type": "code",
      "source": [
        "names=['Daisy','Janet', 'Betty', 'Sheila']\n",
        "for i in names:\n",
        "    print(i)"
      ],
      "metadata": {
        "colab": {
          "base_uri": "https://localhost:8080/"
        },
        "id": "SnZkQSByhpMP",
        "outputId": "43337945-d816-4c34-be2e-0f9a4fc0c666"
      },
      "execution_count": null,
      "outputs": [
        {
          "output_type": "stream",
          "name": "stdout",
          "text": [
            "Daisy\n",
            "Janet\n",
            "Betty\n",
            "Sheila\n"
          ]
        }
      ]
    },
    {
      "cell_type": "code",
      "source": [
        "sum=0\n",
        "i=1\n",
        "while(i<=10):\n",
        "    sum=sum+i\n",
        "    i=i+1\n",
        "print(sum)"
      ],
      "metadata": {
        "colab": {
          "base_uri": "https://localhost:8080/"
        },
        "id": "xNr68hhXicBj",
        "outputId": "00d7eba5-05c7-4a6e-873a-8972362334cb"
      },
      "execution_count": null,
      "outputs": [
        {
          "output_type": "stream",
          "name": "stdout",
          "text": [
            "55\n"
          ]
        }
      ]
    },
    {
      "cell_type": "code",
      "source": [
        "x=[3,4,5,2,1]\n",
        "Y={1,2,3,4,5}\n",
        "z=(1,2,3,4,5)\n",
        "\n",
        "print(f\"x is of type {type(x)} \\nY is of type {type(Y)} \\nz is of type {type(z)}\")"
      ],
      "metadata": {
        "id": "n6skgTfzjWl_",
        "colab": {
          "base_uri": "https://localhost:8080/"
        },
        "outputId": "06c52734-c309-4ace-dd56-3caab1cb000b"
      },
      "execution_count": null,
      "outputs": [
        {
          "output_type": "stream",
          "name": "stdout",
          "text": [
            "x is of type <class 'list'> \n",
            "Y is of type <class 'set'> \n",
            "z is of type <class 'tuple'>\n"
          ]
        }
      ]
    },
    {
      "cell_type": "markdown",
      "source": [
        "**Assignment**"
      ],
      "metadata": {
        "id": "Jmu9lV98LK6-"
      }
    }
  ]
}